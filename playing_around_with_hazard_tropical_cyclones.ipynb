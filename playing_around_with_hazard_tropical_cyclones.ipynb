{
 "cells": [
  {
   "cell_type": "markdown",
   "id": "61789707-dbfc-467a-ab39-da6bf5af430c",
   "metadata": {},
   "source": [
    "# From here\n",
    "\n",
    "https://climada-python.readthedocs.io/en/stable/tutorial/climada_hazard_TropCyclone.html"
   ]
  },
  {
   "cell_type": "code",
   "execution_count": null,
   "id": "cf3e95ca-c15b-44f0-b0d3-dcbe54a42ef1",
   "metadata": {},
   "outputs": [],
   "source": [
    "from climada.hazard import TCTracks\n",
    "\n",
    "import numpy as np\n",
    "import matplotlib.pylab as plt\n",
    "\n",
    "# We need to do this to suppress warnings from different versions \n",
    "# of numpy\n",
    "#\n",
    "# https://stackoverflow.com/questions/76246578/module-numpy-has-no-attribute-warnings\n",
    "# \n",
    "import warnings\n",
    "np.warnings = warnings"
   ]
  },
  {
   "cell_type": "markdown",
   "id": "57205257-c3f1-4ef8-b4da-ce5f22df6ce7",
   "metadata": {},
   "source": [
    "## Irma\n",
    "\n",
    "https://en.wikipedia.org/wiki/Hurricane_Irma\n",
    "\n",
    "Here is where we can map the names to Storm ID\n",
    "\n",
    "https://www.ncei.noaa.gov/data/international-best-track-archive-for-climate-stewardship-ibtracs/v04r00/access/netcdf/IBTrACS_SerialNumber_NameMapping_v04r00_20231029.txt"
   ]
  },
  {
   "cell_type": "code",
   "execution_count": null,
   "id": "932b1021-55e2-4b5e-91f2-d6320644f55f",
   "metadata": {},
   "outputs": [],
   "source": [
    "tr_irma = TCTracks.from_ibtracs_netcdf(provider='usa', storm_id='2017242N16333') # IRMA 2017\n",
    "ax = tr_irma.plot();\n",
    "ax.set_title('IRMA') # set title\n",
    "\n",
    "# other ibtracs selection options\n",
    "from climada.hazard import TCTracks\n",
    "# years 1993 and 1994 in basin EP.\n",
    "# correct_pres ignores tracks with not enough data. For statistics (frequency of events), these should be considered as well\n",
    "sel_ibtracs = TCTracks.from_ibtracs_netcdf(provider='usa', year_range=(1993, 1994), basin='EP', correct_pres=False)\n",
    "print('Number of tracks:', sel_ibtracs.size)\n",
    "ax = sel_ibtracs.plot();\n",
    "ax.get_legend()._loc = 2 # correct legend location\n",
    "ax.set_title('1993-1994, EP') # set title\n",
    "\n",
    "track1 = TCTracks.from_ibtracs_netcdf(provider='usa', storm_id='2007314N10093') # SIDR 2007\n",
    "track2 = TCTracks.from_ibtracs_netcdf(provider='usa', storm_id='2016138N10081') # ROANU 2016\n",
    "track1.append(track2.data) # put both tracks together\n",
    "ax = track1.plot();\n",
    "ax.get_legend()._loc = 2 # correct legend location\n",
    "ax.set_title('SIDR and ROANU'); # set title"
   ]
  },
  {
   "cell_type": "code",
   "execution_count": null,
   "id": "eb481d4e-986a-4005-892a-9cc6205c4b61",
   "metadata": {},
   "outputs": [],
   "source": [
    "# here we use tr_irma retrieved from IBTrACS with the function above\n",
    "# select number of synthetic tracks (nb_synth_tracks) to generate per present tracks.\n",
    "tr_irma.equal_timestep()\n",
    "tr_irma.calc_perturbed_trajectories(nb_synth_tracks=5)\n",
    "tr_irma.plot();\n",
    "# see more configutration options (e.g. amplitude of max random starting point shift in decimal degree; max_shift_ini)"
   ]
  },
  {
   "cell_type": "markdown",
   "id": "5264ec28-78dc-4490-9efe-48f54702d0fe",
   "metadata": {},
   "source": [
    "# Sandy"
   ]
  },
  {
   "cell_type": "code",
   "execution_count": null,
   "id": "9ad4065f-82b1-46ff-b12c-e358dbb997af",
   "metadata": {},
   "outputs": [],
   "source": [
    "tr = TCTracks.from_ibtracs_netcdf(provider='usa', storm_id='2012296N14283') # Sandy 2012"
   ]
  },
  {
   "cell_type": "code",
   "execution_count": null,
   "id": "c7ecb04e-26d5-4e45-be44-f8ca7aa47a45",
   "metadata": {},
   "outputs": [],
   "source": []
  },
  {
   "cell_type": "code",
   "execution_count": null,
   "id": "e7ef80cc-083c-4e35-a90d-e832c817dc90",
   "metadata": {},
   "outputs": [],
   "source": []
  },
  {
   "cell_type": "code",
   "execution_count": null,
   "id": "69fbe82b-4523-4eb7-a74b-5c7a16ba3274",
   "metadata": {},
   "outputs": [],
   "source": []
  },
  {
   "cell_type": "code",
   "execution_count": null,
   "id": "43cf563b-64aa-4e13-ae30-dcbde1b4558e",
   "metadata": {},
   "outputs": [],
   "source": [
    "\n",
    "\n",
    "#plt.figure()\n",
    "ax = tr.plot(figsize=(8,8));\n",
    "ax.set_title('SANDY') # set title\n",
    "\n",
    "print(ax.get_xlim())\n",
    "\n",
    "ax.set_xlim(-20,20)"
   ]
  },
  {
   "cell_type": "code",
   "execution_count": null,
   "id": "bce5b6fa-d28e-4ef2-bd79-08b01c0ce361",
   "metadata": {},
   "outputs": [],
   "source": [
    "# here we use tr_irma retrieved from IBTrACS with the function above\n",
    "# select number of synthetic tracks (nb_synth_tracks) to generate per present tracks.\n",
    "tr.equal_timestep()\n",
    "tr.calc_perturbed_trajectories(nb_synth_tracks=15)\n",
    "tr.plot();\n",
    "# see more configutration options (e.g. amplitude of max random starting p"
   ]
  },
  {
   "cell_type": "code",
   "execution_count": null,
   "id": "f2be26d1-3ab4-471d-9e3d-9922a0014194",
   "metadata": {},
   "outputs": [],
   "source": []
  }
 ],
 "metadata": {
  "kernelspec": {
   "display_name": "Python 3 (ipykernel)",
   "language": "python",
   "name": "python3"
  },
  "language_info": {
   "codemirror_mode": {
    "name": "ipython",
    "version": 3
   },
   "file_extension": ".py",
   "mimetype": "text/x-python",
   "name": "python",
   "nbconvert_exporter": "python",
   "pygments_lexer": "ipython3",
   "version": "3.9.18"
  }
 },
 "nbformat": 4,
 "nbformat_minor": 5
}
