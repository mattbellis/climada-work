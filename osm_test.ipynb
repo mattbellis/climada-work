{
 "cells": [
  {
   "cell_type": "markdown",
   "id": "56e2de9d-2ab0-441d-980c-47522dded304",
   "metadata": {},
   "source": [
    "Needed to install particular shapely\n",
    "\n",
    "https://stackoverflow.com/questions/74847117/unable-to-import-cartopy"
   ]
  },
  {
   "cell_type": "code",
   "execution_count": null,
   "id": "c8cede2e-a14f-475f-b63f-ffe891937987",
   "metadata": {},
   "outputs": [],
   "source": [
    "#Testing OpenStreetMaps\n",
    "import sys\n",
    "sys.path.append('~/Users/oliver/micromamba/envs/osm-flex/') #'your-path-to/osm-flex/src'\n",
    "\n",
    "import shapely\n",
    "import contextily as ctx\n",
    "import os\n",
    "import climada_petals\n",
    "\n",
    "import osm_flex\n",
    "import osm_flex.download\n",
    "import osm_flex.extract\n",
    "import osm_flex.clip\n",
    "import osm_flex.simplify\n",
    "import osm_flex.config\n",
    "\n",
    "from climada import CONFIG\n",
    "osm_flex.enable_logs()\n",
    "\n"
   ]
  },
  {
   "cell_type": "code",
   "execution_count": null,
   "id": "403c0200-9725-4ea0-b564-e0f0e40cf49c",
   "metadata": {},
   "outputs": [],
   "source": [
    "from climada_petals.entity.exposures.osm_dataloader import OSMApiQuery\n",
    "DATA_DIR = CONFIG.exposures.openstreetmap.local_data.dir()\n"
   ]
  },
  {
   "cell_type": "code",
   "execution_count": null,
   "id": "24c73cf9-053c-4468-878a-05238dda4f70",
   "metadata": {},
   "outputs": [],
   "source": [
    "climada_petals.entity"
   ]
  },
  {
   "cell_type": "code",
   "execution_count": null,
   "id": "ce2c96ea-8e99-48ab-9c14-c5dedf3e6263",
   "metadata": {},
   "outputs": [],
   "source": [
    "a = climada_petals.entity.exposures"
   ]
  },
  {
   "cell_type": "code",
   "execution_count": null,
   "id": "79a5c1fc-489c-47cf-a82a-ea476b6dd0a5",
   "metadata": {},
   "outputs": [],
   "source": [
    "climada_petals.entity.exposures.openstreetmap.osm_dataloader\t"
   ]
  },
  {
   "cell_type": "code",
   "execution_count": null,
   "id": "d314e8c8-a74f-4d81-85dd-91ed96f30362",
   "metadata": {},
   "outputs": [],
   "source": []
  }
 ],
 "metadata": {
  "kernelspec": {
   "display_name": "Python 3 (ipykernel)",
   "language": "python",
   "name": "python3"
  },
  "language_info": {
   "codemirror_mode": {
    "name": "ipython",
    "version": 3
   },
   "file_extension": ".py",
   "mimetype": "text/x-python",
   "name": "python",
   "nbconvert_exporter": "python",
   "pygments_lexer": "ipython3",
   "version": "3.9.16"
  }
 },
 "nbformat": 4,
 "nbformat_minor": 5
}
