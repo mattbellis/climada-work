{
 "cells": [
  {
   "cell_type": "markdown",
   "id": "a304cb29-2caa-49f9-bbbf-52bf33c57753",
   "metadata": {},
   "source": [
    "https://climada-python.readthedocs.io/en/stable/tutorial/climada_engine_Impact.html"
   ]
  },
  {
   "cell_type": "code",
   "execution_count": null,
   "id": "564d0d0d-32ce-40fd-a129-1ff13b28f698",
   "metadata": {},
   "outputs": [],
   "source": [
    "# Exposure from the module Litpop\n",
    "# Note that the file gpw_v4_population_count_rev11_2015_30_sec.tif must be downloaded (do not forget to unzip) if\n",
    "# you want to execute this cell on your computer. If you haven't downloaded it before, please have a look at the section \n",
    "# \"population count\" of the LitPop tutorial.\n",
    "\n",
    "import numpy as np\n",
    "from climada.entity import LitPop\n",
    "\n",
    "# Cuba with resolution 10km and financial_mode = income group.\n",
    "exp_lp = LitPop.from_countries(countries=['CUB'], res_arcsec=300, fin_mode='income_group', reference_year=2015)\n",
    "exp_lp.check()\n"
   ]
  },
  {
   "cell_type": "code",
   "execution_count": null,
   "id": "1b001df6-8a2f-4e90-bc73-3d4e01a64138",
   "metadata": {},
   "outputs": [],
   "source": [
    "\n",
    "exp_lp.gdf.head()\n"
   ]
  },
  {
   "cell_type": "code",
   "execution_count": null,
   "id": "07b5e3ba-af79-4e4c-85c0-024dda9f3f99",
   "metadata": {},
   "outputs": [],
   "source": [
    "# not needed for impact calculations\n",
    "# visualize the define exposure\n",
    "exp_lp.plot_raster()\n",
    "print('\\n Raster properties exposures:', exp_lp.meta)"
   ]
  },
  {
   "cell_type": "code",
   "execution_count": null,
   "id": "a95e0447-3cca-4407-845b-fbb7c2b86a48",
   "metadata": {},
   "outputs": [],
   "source": [
    "from climada.hazard import TCTracks, TropCyclone, Centroids\n",
    "\n",
    "# Load histrocial tropical cyclone tracks from ibtracs over the North Atlantic basin between 2010-2012\n",
    "ibtracks_na = TCTracks.from_ibtracs_netcdf(provider='usa', basin='NA', year_range=(2010, 2012), correct_pres=True)\n",
    "print('num tracks hist:', ibtracks_na.size)\n",
    "\n",
    "ibtracks_na.equal_timestep(0.5)  # Interpolation to make the track smooth and to allow applying calc_perturbed_trajectories\n",
    "# Add randomly generated tracks using the calc_perturbed_trajectories method (1 per historical track)\n",
    "ibtracks_na.calc_perturbed_trajectories(nb_synth_tracks=1)\n",
    "print('num tracks hist+syn:', ibtracks_na.size)"
   ]
  },
  {
   "cell_type": "code",
   "execution_count": null,
   "id": "613d81ee-3794-4c1d-8f0f-7f72857ddaaf",
   "metadata": {},
   "outputs": [],
   "source": [
    "# not needed for calculations\n",
    "# visualize tracks\n",
    "ax = ibtracks_na.plot()\n",
    "ax.get_legend()._loc = 2"
   ]
  },
  {
   "cell_type": "code",
   "execution_count": null,
   "id": "cae76f05-394e-49c0-8a85-cc2940a32b68",
   "metadata": {},
   "outputs": [],
   "source": [
    "# Define the centroids from the exposures position\n",
    "lat = exp_lp.gdf['latitude'].values\n",
    "lon = exp_lp.gdf['longitude'].values\n",
    "centrs = Centroids.from_lat_lon(lat, lon)\n",
    "centrs.check()\n"
   ]
  },
  {
   "cell_type": "code",
   "execution_count": null,
   "id": "584fa36c-de47-4b34-aca2-5f86906b8c5e",
   "metadata": {},
   "outputs": [],
   "source": [
    "# Using the tracks, compute the windspeed at the location of the centroids\n",
    "tc = TropCyclone.from_tracks(ibtracks_na, centroids=centrs)\n",
    "tc.check()"
   ]
  },
  {
   "cell_type": "code",
   "execution_count": null,
   "id": "6f7311f6-17ae-456d-b64e-90038723a73d",
   "metadata": {},
   "outputs": [],
   "source": [
    "from climada.entity import ImpactFuncSet, ImpfTropCyclone\n",
    "# impact function TC\n",
    "impf_tc = ImpfTropCyclone.from_emanuel_usa()\n",
    "\n",
    "# add the impact function to an Impact function set\n",
    "impf_set = ImpactFuncSet([impf_tc])\n",
    "impf_set.check()"
   ]
  },
  {
   "cell_type": "code",
   "execution_count": null,
   "id": "ed2337cd-227f-4862-abf2-87a4d43c0d6c",
   "metadata": {},
   "outputs": [],
   "source": [
    "# Get the hazard type and hazard id\n",
    "[haz_type] = impf_set.get_hazard_types()\n",
    "[haz_id] = impf_set.get_ids()[haz_type]\n",
    "print(f\"hazard type: {haz_type}, hazard id: {haz_id}\")"
   ]
  },
  {
   "cell_type": "code",
   "execution_count": null,
   "id": "4bc0a456-0b9f-421e-84b8-95bdfbdb3ddd",
   "metadata": {},
   "outputs": [],
   "source": [
    "# Exposures: rename column and assign id\n",
    "exp_lp.gdf.rename(columns={\"impf_\": \"impf_\" + haz_type}, inplace=True)\n",
    "exp_lp.gdf['impf_' + haz_type] = haz_id\n",
    "exp_lp.check()\n",
    "exp_lp.gdf.head()"
   ]
  },
  {
   "cell_type": "markdown",
   "id": "1d854537-b5fb-4430-bbe1-be8cc2cfbf92",
   "metadata": {},
   "source": [
    "This next cell is generating an error. Discussed here. \n",
    "\n",
    "https://github.com/CLIMADA-project/climada_python/issues/796"
   ]
  },
  {
   "cell_type": "code",
   "execution_count": null,
   "id": "5da4ca59-3191-4352-8b64-a1911cb98f00",
   "metadata": {},
   "outputs": [],
   "source": [
    "# Compute impact\n",
    "from climada.engine import ImpactCalc\n",
    "#imp = ImpactCalc(exp_lp, impf_set, tc).impact(save_mat=False)  # Do not save the results geographically resolved (only aggregate values)"
   ]
  },
  {
   "cell_type": "code",
   "execution_count": null,
   "id": "7435c065-72f0-4c0b-a563-123b8b061ef8",
   "metadata": {},
   "outputs": [],
   "source": [
    "exp_lp.gdf\n"
   ]
  },
  {
   "cell_type": "code",
   "execution_count": null,
   "id": "d022fb2d-9f2c-4fb5-b521-f30d95e67b5e",
   "metadata": {},
   "outputs": [],
   "source": []
  }
 ],
 "metadata": {
  "kernelspec": {
   "display_name": "Python 3 (ipykernel)",
   "language": "python",
   "name": "python3"
  },
  "language_info": {
   "codemirror_mode": {
    "name": "ipython",
    "version": 3
   },
   "file_extension": ".py",
   "mimetype": "text/x-python",
   "name": "python",
   "nbconvert_exporter": "python",
   "pygments_lexer": "ipython3",
   "version": "3.9.18"
  }
 },
 "nbformat": 4,
 "nbformat_minor": 5
}
