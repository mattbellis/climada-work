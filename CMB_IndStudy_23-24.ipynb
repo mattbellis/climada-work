{
 "cells": [
  {
   "cell_type": "code",
   "execution_count": null,
   "id": "9c4e2418-24eb-4886-80e2-879a5e760310",
   "metadata": {
    "tags": []
   },
   "outputs": [],
   "source": [
    "#Import and plot Sandy\n",
    "#%matplotlib inline\n",
    "from climada.hazard import TCTracks\n",
    "import numpy\n",
    "import numpy as np\n",
    "\n",
    "import warnings\n",
    "warnings.filterwarnings('ignore')\n",
    "np.warnings = warnings\n"
   ]
  },
  {
   "cell_type": "code",
   "execution_count": null,
   "id": "d0304af5-a082-4f9c-a783-e8e6524f7c8d",
   "metadata": {},
   "outputs": [],
   "source": [
    "tr_sandy = TCTracks.from_ibtracs_netcdf(provider='usa', storm_id='2012296N14283') # Sandy 2012\n",
    "ax = tr_sandy.plot();\n",
    "ax.set_title('SANDY') # set title"
   ]
  },
  {
   "cell_type": "code",
   "execution_count": null,
   "id": "96ab6b86",
   "metadata": {},
   "outputs": [],
   "source": [
    "#Generate probablistic tracks.\n",
    "tr_sandy.equal_timestep()\n",
    "tr_sandy.calc_perturbed_trajectories(nb_synth_tracks=20) #50 tracks takes ~10 seconds.\n",
    "tr_sandy.plot();"
   ]
  },
  {
   "cell_type": "code",
   "execution_count": null,
   "id": "3fca29ef-0a20-43c4-9850-22c2701198b5",
   "metadata": {},
   "outputs": [],
   "source": [
    "#tr_sandy.plot_intensity('2012296N14283_gen1');"
   ]
  },
  {
   "cell_type": "code",
   "execution_count": null,
   "id": "96170aea",
   "metadata": {},
   "outputs": [],
   "source": [
    "#Importing LitPop Exposure\n",
    "from climada.entity import LitPop\n",
    "\n",
    "exp = LitPop.from_countries(['USA'], fin_mode = 'gdp', res_arcsec = 3000) # you can provide either single countries or a list of countries\n"
   ]
  },
  {
   "cell_type": "code",
   "execution_count": null,
   "id": "fafea493-6497-4d6a-ae37-862875b4afa0",
   "metadata": {},
   "outputs": [],
   "source": [
    "exp.plot_scatter();"
   ]
  },
  {
   "cell_type": "code",
   "execution_count": null,
   "id": "493aec85",
   "metadata": {},
   "outputs": [],
   "source": [
    "import numpy as np\n",
    "from climada.entity import ImpactFuncSet, ImpfTropCyclone, Exposures\n",
    "from climada.entity.measures import Measure, MeasureSet\n",
    "from climada.hazard import Hazard\n",
    "from climada.engine import ImpactCalc\n",
    "\n",
    "# define measure\n",
    "meas = Measure(\n",
    "    name='Wetlands', # name of measure\n",
    "    haz_type='TC', # hazard the measure is combating, TC is Tropical Cyclone\n",
    "    color_rgb=np.array([1, 1, 1]),\n",
    "    cost=500000000, # cost of measure implementation \n",
    "    mdd_impact=(1, 0), # mean damage degree\n",
    "    paa_impact=(1, 0), # percentage of assets affected\n",
    "    hazard_inten_imp=(1, -25), # reduces intensity by 25%\n",
    ")\n",
    "    \n",
    "meas.check()\n",
    "\n",
    "#Make MeasureSet for Entity integration\n",
    "meas_set = MeasureSet()\n",
    "meas_set.append(meas)\n",
    "meas_set.check()\n",
    "\n",
    "#Imp Funcs\n",
    "# https://en.wikipedia.org/wiki/Hurricane_Manuel\n",
    "impf_tc = ImpfTropCyclone.from_emanuel_usa() # This represents some study they did with Emmanuel\n",
    "impf_all = ImpactFuncSet([impf_tc])\n",
    "\n",
    "#Hazard: tc_sandy\n",
    "from climada.hazard import Centroids, TropCyclone\n",
    "\n",
    "# construct centroids\n",
    "# NY state\n",
    "#min_lat, max_lat, min_lon, max_lon = 38, 48, -80, -70\n",
    "\n",
    "min_lat, max_lat, min_lon, max_lon = 42.6526-0.25, 42.6526+0.25, -73.7562-0.25, -73.7562+0.25\n",
    "\n",
    "cent = Centroids.from_pnt_bounds((min_lon, min_lat, max_lon, max_lat), res=0.025)\n",
    "cent.check()\n",
    "cent.plot();\n",
    "\n",
    "#Exposure: exp\n"
   ]
  },
  {
   "cell_type": "code",
   "execution_count": null,
   "id": "fd5addba",
   "metadata": {},
   "outputs": [],
   "source": [
    "# construct tropical cyclones\n",
    "tc_sandy = TropCyclone.from_tracks(tr_sandy, centroids=cent) # Pass in the centroids from previous cell\n",
    "tc_sandy.check()\n"
   ]
  },
  {
   "cell_type": "code",
   "execution_count": null,
   "id": "7566e28a-488e-4101-a27c-43cceb5c2134",
   "metadata": {},
   "outputs": [],
   "source": [
    "import matplotlib.pylab as plt"
   ]
  },
  {
   "cell_type": "code",
   "execution_count": null,
   "id": "7d54349a-9450-47c8-b8ff-f7cb97661745",
   "metadata": {},
   "outputs": [],
   "source": [
    "'''\n",
    "plt.figure(figsize=(10,10))\n",
    "for i in range(1,10):\n",
    "    name = f'2012296N14283_gen{i:d}'\n",
    "    #ax = plt.subplot(5,5,i+1)\n",
    "    tc_sandy.plot_intensity(name, figsize=(6,6));  # SANDY's synthetic track\n",
    "'''"
   ]
  },
  {
   "cell_type": "code",
   "execution_count": null,
   "id": "fe82c429-eeb9-4db7-87e3-3f1007cfb52f",
   "metadata": {},
   "outputs": [],
   "source": [
    "\n",
    "tc_sandy.plot_intensity('2012296N14283');  # SANDY\n",
    "tc_sandy.plot_intensity('2012296N14283_gen16');  # SANDY's synthetic track\n",
    "#gen 8, 16, "
   ]
  },
  {
   "cell_type": "code",
   "execution_count": null,
   "id": "21efc72c",
   "metadata": {},
   "outputs": [],
   "source": [
    "# impf_all is what we got from the Manuel study\n",
    "# tc_sandy is our TropicalCyclone derived from Sandy\n",
    "# exp is the exposure estimated from LitPop\n",
    "\n",
    "# meas is the Wetlands measured we creatd\n",
    "\n",
    "new_exp, new_impfs, new_haz = meas.apply(exp, impf_all, tc_sandy)\n",
    "\n",
    "# if you look at the maximum intensity per centroid: new_haz does not contain the event with smaller impact (the most frequent)\n",
    "new_haz.plot_intensity(0);\n"
   ]
  },
  {
   "cell_type": "code",
   "execution_count": null,
   "id": "706c09b5-fd5e-49db-8b6d-b26b458ee3ba",
   "metadata": {},
   "outputs": [],
   "source": [
    "\n",
    "# you might also compute the exceedance frequency curve of both hazard\n",
    "imp = ImpactCalc(exp, impf_all, tc_sandy).impact()\n",
    "ax = imp.calc_freq_curve().plot(label='original');\n",
    "\n",
    "# With wetlands applied\n",
    "new_imp = ImpactCalc(new_exp, new_impfs, new_haz).impact()\n",
    "new_imp.calc_freq_curve().plot(axis=ax, label='measure');\n",
    "#Impact is in Hundreds of Billions in USD\n",
    "\n",
    "plt.yscale('log')\n",
    "\n",
    "plt.legend()"
   ]
  },
  {
   "cell_type": "code",
   "execution_count": null,
   "id": "52fc1d54",
   "metadata": {},
   "outputs": [],
   "source": [
    "# impact functions\n",
    "impf_all.plot();\n",
    "\n",
    "# new impact functions\n",
    "axes = new_impfs.plot();\n",
    "axes.set_title('TC: Modified impact function')"
   ]
  },
  {
   "cell_type": "code",
   "execution_count": null,
   "id": "f6a3ae5f-8907-4bb6-8f1d-28dea174337e",
   "metadata": {
    "tags": []
   },
   "outputs": [],
   "source": [
    "#Sandy in 50 years\n",
    "#future_year = 2050\n",
    "\n",
    "# Bellis edit, 2050 gave me an error. Maybe the files I downloaded?\n",
    "future_year = 2060"
   ]
  },
  {
   "cell_type": "code",
   "execution_count": null,
   "id": "0ac83ba5",
   "metadata": {
    "tags": []
   },
   "outputs": [],
   "source": [
    "from climada.util.api_client import Client\n",
    "\n",
    "client = Client()\n",
    "\n",
    "haz_present = client.get_hazard('tropical_cyclone', \n",
    "                                properties={'country_name': 'United States', \n",
    "                                            'climate_scenario': 'historical',\n",
    "                                            'nb_synth_tracks':'10'})\n",
    "\n",
    "haz_future = client.get_hazard('tropical_cyclone', \n",
    "                                properties={'country_name': 'United States', \n",
    "                                            'climate_scenario': 'rcp60',\n",
    "                                            'ref_year': str(future_year),\n",
    "                                            'nb_synth_tracks':'10'})\n"
   ]
  },
  {
   "cell_type": "code",
   "execution_count": null,
   "id": "c2936db0-a6d8-491f-8a13-3e4efd3c59d5",
   "metadata": {
    "tags": []
   },
   "outputs": [],
   "source": [
    "#Plot present/future\n",
    "#haz_present.plot_rp_intensity(return_periods=(50,), smooth=False, vmin=32, vmax=50)\n",
    "#haz_future.plot_rp_intensity(return_periods=(50,), smooth=False, vmin=32, vmax=50)"
   ]
  },
  {
   "cell_type": "code",
   "execution_count": null,
   "id": "04436e3a-a3fd-4f62-8198-2b65a29dd215",
   "metadata": {
    "tags": []
   },
   "outputs": [],
   "source": [
    "#Discount Rates\n",
    "from climada.entity import DiscRates\n",
    "\n",
    "# define discount rates\n",
    "years = np.arange(2000, 2100)\n",
    "rates = np.ones(years.size) * 0.014\n",
    "rates[51:55] = 0.025\n",
    "rates[95:120] = 0.035\n",
    "disc = DiscRates(years=years, rates=rates)\n",
    "disc.plot()\n",
    "\n",
    "# Compute net present value between present year and future year.\n",
    "ini_year = 2019\n",
    "#end_year = 2050\n",
    "end_ear = future_year # Bellis edits\n",
    "val_years = np.zeros(end_year-ini_year+1)\n",
    "val_years[0] = 100000000 # initial investment\n",
    "val_years[10:] = 75000 # maintenance from 10th year\n",
    "npv = disc.net_present_value(ini_year, end_year, val_years)\n",
    "print('net present value: {:.5e}'.format(npv))"
   ]
  },
  {
   "cell_type": "code",
   "execution_count": null,
   "id": "34d74da9-1fd5-4365-8277-c9844f9d4396",
   "metadata": {
    "tags": []
   },
   "outputs": [],
   "source": [
    "#Cost-Benefit Analysis\n",
    "#Create future hazard (Client or other method, include rcp level)\n",
    "\n",
    "#Create Entity combining elements.\n",
    "from climada.entity import Entity\n",
    "\n",
    "ent = Entity(\n",
    "    exposures=exp,\n",
    "    disc_rates=disc,\n",
    "    impact_func_set=impf_all,\n",
    "    measure_set=meas_set\n",
    ")\n",
    "\n",
    "from climada.engine import CostBenefit\n",
    "from climada.engine.cost_benefit import risk_aai_agg\n",
    "\n",
    "#Create the cost-benefit analysis\n",
    "costben_measures_only = CostBenefit()\n",
    "costben_measures_only.calc(tc_sandy, ent, haz_future=None, ent_future=None,\n",
    "                           future_year=None, risk_func=risk_aai_agg, imp_time_depen=None, save_imp=True)"
   ]
  },
  {
   "cell_type": "code",
   "execution_count": null,
   "id": "1f6ce7ef-e024-4a17-9eb2-2b293d0071b6",
   "metadata": {},
   "outputs": [],
   "source": []
  },
  {
   "cell_type": "code",
   "execution_count": null,
   "id": "47bc6dd5-99f4-468d-b832-b5b474c148dc",
   "metadata": {},
   "outputs": [],
   "source": []
  },
  {
   "cell_type": "code",
   "execution_count": null,
   "id": "b3efab27-9df1-4667-8d69-c721b7250b81",
   "metadata": {},
   "outputs": [],
   "source": []
  }
 ],
 "metadata": {
  "kernelspec": {
   "display_name": "Python 3 (ipykernel)",
   "language": "python",
   "name": "python3"
  },
  "language_info": {
   "codemirror_mode": {
    "name": "ipython",
    "version": 3
   },
   "file_extension": ".py",
   "mimetype": "text/x-python",
   "name": "python",
   "nbconvert_exporter": "python",
   "pygments_lexer": "ipython3",
   "version": "3.9.16"
  }
 },
 "nbformat": 4,
 "nbformat_minor": 5
}
