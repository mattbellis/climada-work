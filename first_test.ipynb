{
 "cells": [
  {
   "cell_type": "code",
   "execution_count": null,
   "id": "58affc83-0680-4478-95ca-b4856e836705",
   "metadata": {},
   "outputs": [],
   "source": [
    "import numpy as np\n",
    "from climada.hazard import TCTracks\n",
    "import warnings # To hide the warnings\n",
    "warnings.filterwarnings('ignore')\n"
   ]
  },
  {
   "cell_type": "code",
   "execution_count": null,
   "id": "d73155b8-1212-4a9b-a630-d6ce4f5b5ecc",
   "metadata": {},
   "outputs": [],
   "source": [
    "tracks = TCTracks.from_ibtracs_netcdf(provider='usa', basin='NA')"
   ]
  },
  {
   "cell_type": "code",
   "execution_count": null,
   "id": "6e4076ae-d7b2-4057-86e7-7014d5432ff8",
   "metadata": {},
   "outputs": [],
   "source": [
    "# plotting tracks can be very time consuming, depending on the number of tracks. So we choose only a few here, by limiting the time range to one year\n",
    "tracks_2017 = TCTracks.from_ibtracs_netcdf(provider='usa', basin='NA', year_range = (2017, 2017))\n",
    "tracks_2017 .plot(); # This may take a very long time"
   ]
  },
  {
   "cell_type": "code",
   "execution_count": null,
   "id": "ac46b6de-4bcd-42f8-8365-0bd30b603f04",
   "metadata": {},
   "outputs": [],
   "source": [
    "#tracks_2017.data"
   ]
  },
  {
   "cell_type": "code",
   "execution_count": null,
   "id": "c52960de-6e6b-4c6d-bfe9-1f284e225964",
   "metadata": {},
   "outputs": [],
   "source": [
    "# plotting tracks can be very time consuming, depending on the number of tracks. So we choose only a few here, by limiting the time range to one year\n",
    "tracks_2018plus = TCTracks.from_ibtracs_netcdf(provider='usa', basin='NA', year_range = (2018, 2021))\n",
    "tracks_2018plus .plot(); # This may take a very long time"
   ]
  },
  {
   "cell_type": "code",
   "execution_count": null,
   "id": "15983c74-58e3-4598-9311-ca85b499d5f3",
   "metadata": {},
   "outputs": [],
   "source": []
  }
 ],
 "metadata": {
  "kernelspec": {
   "display_name": "Python 3 (ipykernel)",
   "language": "python",
   "name": "python3"
  },
  "language_info": {
   "codemirror_mode": {
    "name": "ipython",
    "version": 3
   },
   "file_extension": ".py",
   "mimetype": "text/x-python",
   "name": "python",
   "nbconvert_exporter": "python",
   "pygments_lexer": "ipython3",
   "version": "3.9.18"
  }
 },
 "nbformat": 4,
 "nbformat_minor": 5
}
